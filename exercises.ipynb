{
  "cells": [
    {
      "cell_type": "code",
      "execution_count": 23,
      "metadata": {
        "trusted": true
      },
      "outputs": [
        {
          "name": "stdout",
          "output_type": "stream",
          "text": [
            "g\n",
            "cow\n",
            "Kevin\n"
          ]
        }
      ],
      "source": [
        "# string\n",
        "x = 'frog'\n",
        "print (x[3])\n",
        "\n",
        "# list\n",
        "x = ['pig', 'cow', 'horse']\n",
        "print(x[1])\n",
        "\n",
        "# tuple\n",
        "x = ('Kevin', 'Niklas', 'Jenny', 'Craig')\n",
        "print (x[0])"
      ]
    },
    {
      "cell_type": "code",
      "execution_count": null,
      "metadata": {
        "trusted": true
      },
      "outputs": [
        {
          "ename": "",
          "evalue": "",
          "output_type": "error",
          "traceback": [
            "\u001b[1;31mRunning cells with '/bin/python3' requires the ipykernel package.\n",
            "\u001b[1;31mRun the following command to install 'ipykernel' into the Python environment. \n",
            "\u001b[1;31mCommand: '/bin/python3 -m pip install ipykernel -U --user --force-reinstall'"
          ]
        }
      ],
      "source": [
        "# slicing\n",
        "x = 'computer'\n",
        "print(x[1:4])\n",
        "print(x[1:6:2])\n",
        "print(x[3:])\n",
        "print(x[:5])\n",
        "print(x[-1])\n",
        "print(x[-3:])\n",
        "print(x[:-2])"
      ]
    },
    {
      "cell_type": "code",
      "execution_count": 6,
      "metadata": {
        "trusted": true
      },
      "outputs": [
        {
          "name": "stdout",
          "output_type": "stream",
          "text": [
            "horseshoe\n",
            "horseshoe\n",
            "('Kevin', 'Niklas', 'Jenny', 'Craig')\n"
          ]
        }
      ],
      "source": [
        "# adding and concatenating\n",
        "\n",
        "#string\n",
        "x = 'horse' + 'shoe'\n",
        "print(x)\n",
        "\n",
        "#list\n",
        "y = ['pig', 'cow'] + ['horse']\n",
        "print(x)\n",
        "\n",
        "#tuple\n",
        "z = ('Kevin', 'Niklas', 'Jenny') + ('Craig',)\n",
        "print(z)"
      ]
    },
    {
      "cell_type": "code",
      "execution_count": 8,
      "metadata": {
        "trusted": true
      },
      "outputs": [
        {
          "name": "stdout",
          "output_type": "stream",
          "text": [
            "bugbugbug\n",
            "[8, 5, 8, 5, 8, 5]\n",
            "(2, 4, 2, 4, 2, 4)\n"
          ]
        }
      ],
      "source": [
        "#multiplying\n",
        "\n",
        "#string\n",
        "x = 'bug' * 3\n",
        "print(x)\n",
        "\n",
        "#list\n",
        "y = [8, 5] * 3\n",
        "print (y)\n",
        "\n",
        "#tuple\n",
        "z = (2, 4) * 3\n",
        "print(z)"
      ]
    },
    {
      "cell_type": "code",
      "execution_count": 10,
      "metadata": {
        "trusted": true
      },
      "outputs": [
        {
          "name": "stdout",
          "output_type": "stream",
          "text": [
            "True\n",
            "False\n",
            "False\n"
          ]
        }
      ],
      "source": [
        "# check membershio\n",
        "\n",
        "#string\n",
        "x = 'bug'\n",
        "print('u' in x)\n",
        "\n",
        "#list\n",
        "z = ['pig', 'cow', 'horse']\n",
        "print('cow' not in z)\n",
        "\n",
        "#tuple\n",
        "z = ('Kevin', 'Mark', 'Douglas')\n",
        "print('Tony' in z)"
      ]
    },
    {
      "cell_type": "code",
      "execution_count": 11,
      "metadata": {
        "trusted": true
      },
      "outputs": [
        {
          "name": "stdout",
          "output_type": "stream",
          "text": [
            "7\n",
            "8\n",
            "9\n",
            "0 7\n",
            "1 8\n",
            "2 3\n"
          ]
        }
      ],
      "source": [
        "# iteration\n",
        "\n",
        "#item\n",
        "x = [7, 8, 9]\n",
        "for item in x:\n",
        "    print(item)\n",
        "    \n",
        "# index & item\n",
        "y = [7, 8, 3]\n",
        "for index, item in enumerate(y):\n",
        "    print(index, item)"
      ]
    },
    {
      "cell_type": "code",
      "execution_count": 12,
      "metadata": {
        "trusted": true
      },
      "outputs": [
        {
          "name": "stdout",
          "output_type": "stream",
          "text": [
            "3\n",
            "3\n",
            "4\n"
          ]
        }
      ],
      "source": [
        "# number of items\n",
        "\n",
        "#string\n",
        "x = 'bug'\n",
        "print(len(x))\n",
        "\n",
        "#list\n",
        "y = ['pig', 'cow', 'horse']\n",
        "print(len(y))\n",
        "\n",
        "#tuple\n",
        "z = ('Yosef', 'Mark', 'House', 'Cutty')\n",
        "print(len(z))"
      ]
    },
    {
      "cell_type": "code",
      "execution_count": 13,
      "metadata": {
        "trusted": true
      },
      "outputs": [
        {
          "name": "stdout",
          "output_type": "stream",
          "text": [
            "u\n",
            "pig\n",
            "Yosef\n"
          ]
        }
      ],
      "source": [
        "# maximum\n",
        "\n",
        "#string\n",
        "x = 'bug'\n",
        "print(max(x))\n",
        "\n",
        "#list\n",
        "y = ['pig', 'cow', 'horse']\n",
        "print(max(y))\n",
        "\n",
        "#tuple\n",
        "z = ('Yosef', 'Mark', 'House', 'Cutty')\n",
        "print(max(z))"
      ]
    },
    {
      "cell_type": "code",
      "execution_count": 17,
      "metadata": {
        "trusted": true
      },
      "outputs": [
        {
          "name": "stdout",
          "output_type": "stream",
          "text": [
            "27\n",
            "20\n",
            "27\n"
          ]
        }
      ],
      "source": [
        "# sum\n",
        "#string #returns error\n",
        "# x = 'bug'\n",
        "# print(sum(x))\n",
        "\n",
        "#list\n",
        "y = [2, 5, 8, 12]\n",
        "print(sum(y))\n",
        "print(sum(y[-2:]))\n",
        "\n",
        "#tuple\n",
        "z = (2, 5, 8, 12)\n",
        "print(sum(z))"
      ]
    },
    {
      "cell_type": "code",
      "execution_count": 18,
      "metadata": {
        "trusted": true
      },
      "outputs": [
        {
          "name": "stdout",
          "output_type": "stream",
          "text": [
            "['b', 'g', 'u']\n",
            "['cow', 'horse', 'pig']\n",
            "['Cutty', 'House', 'Mark', 'Yosef']\n"
          ]
        }
      ],
      "source": [
        "# sorting\n",
        "\n",
        "#string\n",
        "x = 'bug'\n",
        "print(sorted(x))\n",
        "\n",
        "#list\n",
        "y = ['pig', 'cow', 'horse']\n",
        "print(sorted(y))\n",
        "\n",
        "#tuple\n",
        "z = ('Yosef', 'Mark', 'House', 'Cutty')\n",
        "print(sorted(z))"
      ]
    },
    {
      "cell_type": "code",
      "execution_count": 19,
      "metadata": {
        "trusted": true
      },
      "outputs": [
        {
          "name": "stdout",
          "output_type": "stream",
          "text": [
            "['Mark', 'Yosef', 'House', 'Cutty']\n"
          ]
        }
      ],
      "source": [
        "# sorting by second letter\n",
        "\n",
        "#tuple\n",
        "z = ('Yosef', 'Mark', 'House', 'Cutty')\n",
        "print(sorted(z, key=lambda k: k[1]))"
      ]
    },
    {
      "cell_type": "code",
      "execution_count": 20,
      "metadata": {
        "trusted": true
      },
      "outputs": [
        {
          "name": "stdout",
          "output_type": "stream",
          "text": [
            "2\n",
            "1\n",
            "1\n"
          ]
        }
      ],
      "source": [
        "# count(item)\n",
        "\n",
        "#string\n",
        "x = 'hippo'\n",
        "print(x.count('p'))\n",
        "\n",
        "#list\n",
        "y = ['pig', 'cow', 'horse']\n",
        "print(y.count('cow'))\n",
        "\n",
        "#tuple\n",
        "z = ('Yosef', 'Mark', 'House', 'Cutty')\n",
        "print(z.count('House'))"
      ]
    },
    {
      "cell_type": "code",
      "execution_count": 21,
      "metadata": {
        "trusted": true
      },
      "outputs": [
        {
          "name": "stdout",
          "output_type": "stream",
          "text": [
            "2\n",
            "1\n",
            "2\n"
          ]
        }
      ],
      "source": [
        "# index(item)\n",
        "\n",
        "#string\n",
        "x = 'hippo'\n",
        "print(x.index('p'))\n",
        "\n",
        "#list\n",
        "y = ['pig', 'cow', 'horse']\n",
        "print(y.index('cow'))\n",
        "\n",
        "#tuple\n",
        "z = ('Yosef', 'Mark', 'House', 'Cutty')\n",
        "print(z.index('House'))"
      ]
    },
    {
      "cell_type": "code",
      "execution_count": 22,
      "metadata": {
        "trusted": true
      },
      "outputs": [
        {
          "name": "stdout",
          "output_type": "stream",
          "text": [
            "pig cow horse\n"
          ]
        }
      ],
      "source": [
        "# unpacking\n",
        "\n",
        "x = ['pig', 'cow', 'horse']\n",
        "a, b, c = y\n",
        "print(a, b, c)"
      ]
    },
    {
      "cell_type": "code",
      "execution_count": 24,
      "metadata": {
        "trusted": true
      },
      "outputs": [
        {
          "name": "stdout",
          "output_type": "stream",
          "text": [
            "[0, 1, 2, 3, 4, 5, 6, 7]\n",
            "[25, 36, 49, 64, 81]\n"
          ]
        }
      ],
      "source": [
        "# LISTS\n",
        "\n",
        "# constructors - creating new list\n",
        "\n",
        "x = list()\n",
        "y = ['a', 25, 'dog', 8.43]\n",
        "tuple1 = (10, 20)\n",
        "z = list(tuple1)\n",
        "\n",
        "#list comprehension\n",
        "\n",
        "a = [m for m in range(8)]\n",
        "print(a)\n",
        "b = [i**2 for i in range(10) if i>4]\n",
        "print(b)\n"
      ]
    },
    {
      "cell_type": "code",
      "execution_count": 29,
      "metadata": {
        "trusted": true
      },
      "outputs": [
        {
          "name": "stdout",
          "output_type": "stream",
          "text": [
            "[4, 5, 9]\n"
          ]
        }
      ],
      "source": [
        "# delete a list or item\n",
        "\n",
        "x = [4, 5, 7, 9]\n",
        "del(x[2])\n",
        "\n",
        "print(sorted(x))\n",
        "del(x) #deletes entire list\n"
      ]
    },
    {
      "cell_type": "code",
      "execution_count": 30,
      "metadata": {
        "trusted": true
      },
      "outputs": [
        {
          "name": "stdout",
          "output_type": "stream",
          "text": [
            "[4, 5, 7, 7, 9]\n"
          ]
        }
      ],
      "source": [
        "# append a list or item\n",
        "\n",
        "x = [4, 5, 7, 9]\n",
        "x.append(7)\n",
        "\n",
        "print(sorted(x))"
      ]
    },
    {
      "cell_type": "code",
      "execution_count": 31,
      "metadata": {
        "trusted": true
      },
      "outputs": [
        {
          "name": "stdout",
          "output_type": "stream",
          "text": [
            "[5, 6, 7, 9, 13, 17]\n"
          ]
        }
      ],
      "source": [
        "# extend - append a sequence to a list\n",
        "\n",
        "x = [5, 7, 9, 6]\n",
        "y = [13, 17]\n",
        "x.extend(y)\n",
        "print(sorted(x))"
      ]
    },
    {
      "cell_type": "code",
      "execution_count": 34,
      "metadata": {
        "trusted": true
      },
      "outputs": [
        {
          "name": "stdout",
          "output_type": "stream",
          "text": [
            "[5, 6, 7, 9, 17]\n",
            "[5, ['a', 'm'], 7, 9, 6, 17]\n"
          ]
        }
      ],
      "source": [
        "# insert - insert an item to a list\n",
        "\n",
        "x = [5, 7, 9, 6]\n",
        "x.insert(13, 17)\n",
        "print(sorted(x))\n",
        "x.insert(1, ['a', 'm'])\n",
        "print(x)"
      ]
    },
    {
      "cell_type": "code",
      "execution_count": 35,
      "metadata": {
        "trusted": true
      },
      "outputs": [
        {
          "name": "stdout",
          "output_type": "stream",
          "text": [
            "[5, 7, 9]\n",
            "9\n"
          ]
        }
      ],
      "source": [
        "# pop - pops the last item of a list\n",
        "\n",
        "x = [5, 7, 9, 6]\n",
        "x.pop()\n",
        "print(x)\n",
        "print(x.pop())"
      ]
    },
    {
      "cell_type": "code",
      "execution_count": 37,
      "metadata": {
        "trusted": true
      },
      "outputs": [
        {
          "name": "stdout",
          "output_type": "stream",
          "text": [
            "[5, 7, 9, 6]\n"
          ]
        }
      ],
      "source": [
        "# remove - remove first instance of an item\n",
        "\n",
        "x = [3, 5, 7, 9, 6]\n",
        "x.remove(3)\n",
        "print(x)"
      ]
    },
    {
      "cell_type": "code",
      "execution_count": 38,
      "metadata": {
        "trusted": true
      },
      "outputs": [
        {
          "name": "stdout",
          "output_type": "stream",
          "text": [
            "[6, 9, 7, 5, 3]\n"
          ]
        }
      ],
      "source": [
        "# reverse - reverse the order of the list\n",
        "\n",
        "x = [3, 5, 7, 9, 6]\n",
        "x.reverse()\n",
        "print(x)"
      ]
    },
    {
      "cell_type": "code",
      "execution_count": 39,
      "metadata": {
        "trusted": true
      },
      "outputs": [
        {
          "name": "stdout",
          "output_type": "stream",
          "text": [
            "[3, 5, 6, 7, 9]\n"
          ]
        }
      ],
      "source": [
        "# sort - sort the list in place\n",
        "# Note: sorted(x) returns a new sorted list without changing the original\n",
        "# x.sort() puts the items of x in sorted order (sorts in place)\n",
        "\n",
        "x = [3, 5, 7, 9, 6]\n",
        "x.sort()\n",
        "print(x)"
      ]
    },
    {
      "cell_type": "code",
      "execution_count": 40,
      "metadata": {
        "trusted": true
      },
      "outputs": [
        {
          "name": "stdout",
          "output_type": "stream",
          "text": [
            "[9, 7, 6, 5, 3]\n"
          ]
        }
      ],
      "source": [
        "# reverse sort - sort the list in reverse\n",
        "\n",
        "x = [3, 5, 7, 9, 6]\n",
        "x.sort(reverse=True)\n",
        "print(x)"
      ]
    },
    {
      "cell_type": "code",
      "execution_count": 41,
      "metadata": {
        "trusted": true
      },
      "outputs": [
        {
          "name": "stdout",
          "output_type": "stream",
          "text": [
            "(2,) <class 'tuple'>\n",
            "(2, 4, 6) <class 'tuple'>\n"
          ]
        }
      ],
      "source": [
        "# TUPLES\n",
        "\n",
        "# constructors - creating new tuples\n",
        "\n",
        "x = ()\n",
        "x = (1, 2, 3)\n",
        "x = 1, 2, 3\n",
        "x = 2 , # comma tells python it is a tuple\n",
        "print(x, type(x))\n",
        "\n",
        "list1 = [2, 4, 6]\n",
        "x = tuple(list1)\n",
        "print(x, type(x))\n",
        "\n"
      ]
    },
    {
      "cell_type": "code",
      "execution_count": 43,
      "metadata": {
        "trusted": true
      },
      "outputs": [
        {
          "name": "stdout",
          "output_type": "stream",
          "text": [
            "(1, 2, 3)\n",
            "([1], 3)\n",
            "([1], 3, 4)\n"
          ]
        }
      ],
      "source": [
        "# tuples are immutable, but member objects may be mutable\n",
        "\n",
        "x = (1, 2, 3)\n",
        "# del(x[1]) # fails\n",
        "# x[1] = 8  # fails\n",
        "print(x)\n",
        "\n",
        "y = ([1, 2], 3)\n",
        "del(y[0][1])\n",
        "print(y)\n",
        "\n",
        "y += (4, )\n",
        "print(y)"
      ]
    },
    {
      "cell_type": "code",
      "execution_count": 44,
      "metadata": {
        "trusted": true
      },
      "outputs": [
        {
          "name": "stdout",
          "output_type": "stream",
          "text": [
            "{3, 5}\n",
            "set()\n",
            "{2, 3, 4}\n"
          ]
        }
      ],
      "source": [
        "# SETS\n",
        "\n",
        "# constructors - creating new sets\n",
        "\n",
        "x = {3, 5, 3, 5}\n",
        "print(x)\n",
        "\n",
        "y = set()\n",
        "print(y)\n",
        "\n",
        "list1 = [2, 3, 4]\n",
        "z = set(list1)\n",
        "print(z)"
      ]
    },
    {
      "cell_type": "code",
      "execution_count": 47,
      "metadata": {
        "trusted": true
      },
      "outputs": [
        {
          "name": "stdout",
          "output_type": "stream",
          "text": [
            "{8, 3, 5}\n",
            "{8, 3, 5, 7}\n",
            "{8, 5, 7}\n",
            "3\n",
            "True\n",
            "8 {5, 7}\n",
            "set()\n"
          ]
        }
      ],
      "source": [
        "# set operators\n",
        "\n",
        "x = {3, 8 , 5}\n",
        "print(x)\n",
        "x.add(7)\n",
        "print(x)\n",
        "\n",
        "x.remove(3)\n",
        "print(x)\n",
        "\n",
        "# get length of set x\n",
        "print(len(x))\n",
        "\n",
        "# check membership in x\n",
        "print(5 in x)\n",
        "\n",
        "# pop random item from set x\n",
        "print(x.pop(), x)\n",
        "\n",
        "# delete all items from set x\n",
        "x.clear()\n",
        "print(x)"
      ]
    },
    {
      "cell_type": "code",
      "execution_count": 48,
      "metadata": {
        "trusted": true
      },
      "outputs": [
        {
          "name": "stdout",
          "output_type": "stream",
          "text": [
            "{3}\n",
            "{1, 2, 3, 4, 5}\n",
            "{1, 2, 4, 5}\n",
            "False\n",
            "False\n"
          ]
        }
      ],
      "source": [
        "# Mathematical set operations\n",
        "# intersection (AND): set1 & set2\n",
        "# union (OR): set1 | set2\n",
        "# symmetric difference (XOR): set1 ^ set2\n",
        "# subset (AND): set1 <= set2\n",
        "# superset (AND): set1 => set2\n",
        "\n",
        "s1 = {1, 2, 3}\n",
        "s2 = {3, 4, 5}\n",
        "print(s1 & s2)\n",
        "print(s1 | s2)\n",
        "print(s1 ^ s2)\n",
        "print(s1 <= s2)\n",
        "print(s1 >= s2)"
      ]
    },
    {
      "cell_type": "code",
      "execution_count": 52,
      "metadata": {
        "trusted": true
      },
      "outputs": [
        {
          "name": "stdout",
          "output_type": "stream",
          "text": [
            "{'pork': 25.3, 'beef': 33.8, 'chicken': 22.7}\n",
            "{'pork': 25.3, 'beef': 33.8, 'chicken': 22.7}\n",
            "{'pork': 25.3, 'beef': 33.8, 'chicken': 22.7}\n"
          ]
        }
      ],
      "source": [
        "# DICTIONARIES (dict)\n",
        "\n",
        "x = {'pork':25.3, 'beef':33.8, 'chicken':22.7}\n",
        "print(x)\n",
        "x = dict([('pork',25.3), ('beef',33.8), ('chicken',22.7)])\n",
        "print(x)\n",
        "x = dict(pork = 25.3, beef = 33.8, chicken = 22.7)\n",
        "print(x)"
      ]
    },
    {
      "cell_type": "code",
      "execution_count": 53,
      "metadata": {
        "trusted": true
      },
      "outputs": [
        {
          "name": "stdout",
          "output_type": "stream",
          "text": [
            "{'pork': 25.3, 'beef': 33.8, 'chicken': 22.7, 'shrimp': 38.2}\n",
            "{'pork': 25.3, 'beef': 33.8, 'chicken': 22.7}\n",
            "3\n",
            "{}\n"
          ]
        }
      ],
      "source": [
        "# dict operators\n",
        "\n",
        "x['shrimp'] = 38.2 # add or update\n",
        "print(x)\n",
        "\n",
        "# delete an item\n",
        "del(x['shrimp'])\n",
        "print(x)\n",
        "\n",
        "# get length of dict x\n",
        "print(len(x))\n",
        "\n",
        "# delete all items from dict x\n",
        "x.clear()\n",
        "print(x)\n",
        "\n",
        "# delete dict x\n",
        "del(x)"
      ]
    },
    {
      "cell_type": "code",
      "execution_count": 57,
      "metadata": {
        "trusted": true
      },
      "outputs": [
        {
          "name": "stdout",
          "output_type": "stream",
          "text": [
            "dict_keys(['pork', 'beef', 'chicken'])\n",
            "dict_values([25.3, 33.8, 22.7])\n",
            "dict_items([('pork', 25.3), ('beef', 33.8), ('chicken', 22.7)])\n",
            "True\n",
            "False\n"
          ]
        }
      ],
      "source": [
        "# accessing keys and values for a dict\n",
        "\n",
        "x = {'pork':25.3, 'beef':33.8, 'chicken':22.7}\n",
        "print(x.keys())\n",
        "print(x.values())\n",
        "print(x.items())\n",
        "\n",
        "# check membership in y_keys\n",
        "print('beef' in x)\n",
        "\n",
        "# check membership in y_values\n",
        "print('clams' in x.values())"
      ]
    },
    {
      "cell_type": "code",
      "execution_count": 59,
      "metadata": {
        "trusted": true
      },
      "outputs": [
        {
          "name": "stdout",
          "output_type": "stream",
          "text": [
            "pork 25.3\n",
            "beef 33.8\n",
            "chicken 22.7\n",
            "pork 25.3\n",
            "beef 33.8\n",
            "chicken 22.7\n"
          ]
        }
      ],
      "source": [
        "# iterating a dict\n",
        "\n",
        "for key in x:\n",
        "    print(key, x[key])\n",
        "    \n",
        "for k, v in x.items():\n",
        "    print(k, v)"
      ]
    },
    {
      "cell_type": "code",
      "execution_count": 60,
      "metadata": {
        "trusted": true
      },
      "outputs": [
        {
          "name": "stdout",
          "output_type": "stream",
          "text": [
            "under_10: [0, 1, 2, 3, 4, 5, 6, 7, 8, 9]\n"
          ]
        }
      ],
      "source": [
        "# PYTHON LIST COMPREHENSIONS\n",
        "# basic format: new_list = [transoform_sequence[filter]]\n",
        "\n",
        "import random\n",
        "\n",
        "under_10 = [x for x in range(10)]\n",
        "print('under_10: ' + str(under_10))"
      ]
    },
    {
      "cell_type": "code",
      "execution_count": 62,
      "metadata": {
        "trusted": true
      },
      "outputs": [
        {
          "name": "stdout",
          "output_type": "stream",
          "text": [
            "squares: [0, 1, 4, 9, 16, 25, 36, 49, 64, 81]\n"
          ]
        }
      ],
      "source": [
        "# get squared values\n",
        "\n",
        "squares = [x**2 for x in under_10]\n",
        "print('squares: ' + str(squares))"
      ]
    },
    {
      "cell_type": "code",
      "execution_count": 63,
      "metadata": {
        "trusted": true
      },
      "outputs": [
        {
          "name": "stdout",
          "output_type": "stream",
          "text": [
            "odds: [1, 3, 5, 7, 9]\n"
          ]
        }
      ],
      "source": [
        "# get odd numbers using mod\n",
        "\n",
        "odds = [x for x in range(10) if x%2 == 1]\n",
        "print('odds: ' + str(odds))"
      ]
    },
    {
      "cell_type": "code",
      "execution_count": 64,
      "metadata": {
        "trusted": true
      },
      "outputs": [
        {
          "name": "stdout",
          "output_type": "stream",
          "text": [
            "ten_x: [0, 10, 20, 30, 40, 50, 60, 70, 80, 90]\n"
          ]
        }
      ],
      "source": [
        "# get multiples of 10\n",
        "\n",
        "ten_x = [x*10 for x in range(10)]\n",
        "print('ten_x: ' + str(ten_x))"
      ]
    },
    {
      "cell_type": "code",
      "execution_count": 66,
      "metadata": {
        "trusted": true
      },
      "outputs": [
        {
          "name": "stdout",
          "output_type": "stream",
          "text": [
            "nums: 2073\n"
          ]
        }
      ],
      "source": [
        "# get all numbers from a string\n",
        "\n",
        "s = 'I love 2 go t0 the store 7 times a w3ek'\n",
        "nums = [x for x in s if x.isnumeric()]\n",
        "print('nums: ' + ''.join(nums))"
      ]
    },
    {
      "cell_type": "code",
      "execution_count": 67,
      "metadata": {
        "trusted": true
      },
      "outputs": [
        {
          "name": "stdout",
          "output_type": "stream",
          "text": [
            "index = 2\n"
          ]
        }
      ],
      "source": [
        "# get index of a list item\n",
        "\n",
        "names = ['Cosmo', 'Pedro', 'Anu', 'Ray']\n",
        "idx = [k for k, v in enumerate(names) if v == 'Anu']\n",
        "print('index = ' + str(idx[0]))"
      ]
    },
    {
      "cell_type": "code",
      "execution_count": 68,
      "metadata": {
        "trusted": true
      },
      "outputs": [
        {
          "name": "stdout",
          "output_type": "stream",
          "text": [
            "['F', 'C', 'B', 'D', 'E', 'A'] ['F', 'B', 'D', 'E', 'A']\n"
          ]
        }
      ],
      "source": [
        "# delete an item from a list\n",
        "\n",
        "letters = [x for x in 'ABCDEF']\n",
        "random.shuffle(letters)\n",
        "letrs = [a for a in letters if a != 'C']\n",
        "print(letters, letrs)"
      ]
    },
    {
      "cell_type": "code",
      "execution_count": 69,
      "metadata": {
        "trusted": true
      },
      "outputs": [
        {
          "name": "stdout",
          "output_type": "stream",
          "text": [
            "new list: [50, 30, 10, 18, 6, 70]\n"
          ]
        }
      ],
      "source": [
        "# if-else condition in a comprehension\n",
        "\n",
        "nums = [5, 3, 10, 18, 6, 7]\n",
        "new_list = [x if x%2 == 0 else 10*x for x in nums]\n",
        "print('new list: ' + str(new_list))"
      ]
    },
    {
      "cell_type": "code",
      "execution_count": 70,
      "metadata": {
        "trusted": true
      },
      "outputs": [
        {
          "name": "stdout",
          "output_type": "stream",
          "text": [
            "[1, 2, 3, 4]\n"
          ]
        }
      ],
      "source": [
        "# nested loop iteration for 2D list\n",
        "\n",
        "a = [[1, 2],[3, 4]]\n",
        "new_list = [x for b in a for x in b]\n",
        "print(new_list)"
      ]
    },
    {
      "cell_type": "code",
      "execution_count": 81,
      "metadata": {
        "trusted": true
      },
      "outputs": [
        {
          "name": "stdout",
          "output_type": "stream",
          "text": [
            "[5, 10, 15, 20]\n"
          ]
        }
      ],
      "source": [
        "# exercise print a list [5, 10, 15, 20]\n",
        "\n",
        "my_list = [x*5 for x in range(5) if x > 0]\n",
        "\n",
        "print(my_list)"
      ]
    },
    {
      "cell_type": "code",
      "execution_count": 85,
      "metadata": {
        "trusted": true
      },
      "outputs": [
        {
          "name": "stdout",
          "output_type": "stream",
          "text": [
            "[['Mary', 'Stark'], ['Gordon', 'Brown'], ['Jenny', 'Jung'], ['Tony', 'Stark']]\n"
          ]
        }
      ],
      "source": [
        "names = [['Mary', 'Smith'], ['Gordon', 'Brown'], ['Jenny', 'Jung']]\n",
        "first = 'Tony'\n",
        "last = 'Stark'\n",
        "names[0][1] = last\n",
        "names.append([first, last])\n",
        "print(names)"
      ]
    },
    {
      "cell_type": "code",
      "execution_count": 88,
      "metadata": {
        "trusted": true
      },
      "outputs": [
        {
          "name": "stdout",
          "output_type": "stream",
          "text": [
            "[4, 7, 12, 19]\n"
          ]
        }
      ],
      "source": [
        "# STACKS, QUEUES & HEAPS\n",
        "\n",
        "# stack is LIFO data structure\n",
        "\n",
        "my_stack = list()\n",
        "my_stack.append(4)\n",
        "my_stack.append(7)\n",
        "my_stack.append(12)\n",
        "my_stack.append(19)\n",
        "print(my_stack)"
      ]
    },
    {
      "cell_type": "code",
      "execution_count": 89,
      "metadata": {
        "trusted": true
      },
      "outputs": [
        {
          "name": "stdout",
          "output_type": "stream",
          "text": [
            "19\n",
            "12\n",
            "[4, 7]\n"
          ]
        }
      ],
      "source": [
        "print(my_stack.pop())\n",
        "print(my_stack.pop())\n",
        "print(my_stack)"
      ]
    },
    {
      "cell_type": "code",
      "execution_count": 12,
      "metadata": {
        "trusted": true
      },
      "outputs": [],
      "source": [
        "# Stack using list with a wrapper class\n",
        "\n",
        "class Stack():\n",
        "    def __init__(self):\n",
        "        self.stack = list()\n",
        "    def push(self, item):\n",
        "        self.stack.append(item)\n",
        "    def pop(self):\n",
        "        if len(self.stack) > 0:\n",
        "            return self.stack.pop()\n",
        "        else:\n",
        "            return None\n",
        "    def peek(self):\n",
        "        if len(self.stack) > 0:\n",
        "            return self.stack[len(self.stack)-1]\n",
        "        else:\n",
        "            return None\n",
        "    def __str__ (self):\n",
        "        return str(self.stack)"
      ]
    },
    {
      "cell_type": "code",
      "execution_count": 13,
      "metadata": {
        "trusted": true
      },
      "outputs": [
        {
          "name": "stdout",
          "output_type": "stream",
          "text": [
            "[1, 3]\n",
            "3\n",
            "1\n",
            "1\n",
            "None\n"
          ]
        }
      ],
      "source": [
        "# test code for stack wrapper class\n",
        "\n",
        "my_stack = Stack()\n",
        "my_stack.push(1)\n",
        "my_stack.push(3)\n",
        "print(my_stack)\n",
        "print(my_stack.pop())\n",
        "print(my_stack.peek())\n",
        "print(my_stack.pop())\n",
        "print(my_stack.pop())"
      ]
    },
    {
      "cell_type": "code",
      "execution_count": 95,
      "metadata": {
        "trusted": true
      },
      "outputs": [
        {
          "name": "stdout",
          "output_type": "stream",
          "text": [
            "deque([5, 10])\n",
            "5\n"
          ]
        }
      ],
      "source": [
        "# Queue using Python Deque - FIFO structure\n",
        "\n",
        "from collections import deque\n",
        "my_queue = deque()\n",
        "my_queue.append(5)\n",
        "my_queue.append(10)\n",
        "print(my_queue)\n",
        "print(my_queue.popleft())"
      ]
    },
    {
      "cell_type": "code",
      "execution_count": 114,
      "metadata": {
        "collapsed": true,
        "jupyter": {
          "outputs_hidden": true
        },
        "trusted": true
      },
      "outputs": [
        {
          "name": "stdout",
          "output_type": "stream",
          "text": [
            "5\n",
            "1\n"
          ]
        }
      ],
      "source": [
        "from collections import deque\n",
        "class Queue():\n",
        "    def __init__(self):\n",
        "        self.queue = deque()\n",
        "        self.size = 0\n",
        "    def enqueue(self, item):\n",
        "        return self.queue.append(item)\n",
        "    def dequeue(self):\n",
        "        if len(self.queue) > 0:\n",
        "            return self.queue.popleft()\n",
        "        else:\n",
        "            return None\n",
        "    def get_size(self):\n",
        "        return len(self.queue)\n",
        "    \n",
        "my_queue = Queue()\n",
        "my_queue.enqueue(5)\n",
        "my_queue.enqueue(10)\n",
        "print(my_queue.dequeue())\n",
        "print(my_queue.get_size())"
      ]
    },
    {
      "cell_type": "code",
      "execution_count": 6,
      "metadata": {
        "trusted": true
      },
      "outputs": [],
      "source": [
        "# HEAPS in Python\n",
        "# Python MaxHeap\n",
        "\n",
        "class MaxHeap:\n",
        "    def __init__(self, items=[]):\n",
        "        super().__init__()\n",
        "        self.heap = [0]\n",
        "        for item in items:\n",
        "            self.heap.append(item)\n",
        "            self.__floatUp(len(self.heap) -1 )\n",
        "    \n",
        "    def push(self, data):\n",
        "        self.heap.append(data)\n",
        "        self.__floatUp(len(self.heap) -1 )\n",
        "        \n",
        "    def peek(self):\n",
        "        if self.heap[1]:\n",
        "            return self.heap[1]\n",
        "        else:\n",
        "            return False\n",
        "        \n",
        "    def pop(self):\n",
        "        if len(self.heap) > 2:\n",
        "            self.__swap(1, len(self.heap) - 1)\n",
        "            max = self.heap.pop()\n",
        "            self.__bubbleDown(1)\n",
        "        elif len(self.heap) == 2:\n",
        "            max = self.heap.pop()\n",
        "        else:\n",
        "            max = False\n",
        "        return max\n",
        "    \n",
        "    def __swap(self, i, j):\n",
        "        self.heap[i], self.heap[j] = self.heap[j], self.heap[i]\n",
        "        \n",
        "    def __floatUp(self, index):\n",
        "        parent = index//2\n",
        "        if index <= 1:\n",
        "            return\n",
        "        elif self.heap[index] > self.heap[parent]:\n",
        "            self.__swap(index, parent)\n",
        "            self.__floatUp(parent)\n",
        "            \n",
        "    def __bubbleDown(self, index):\n",
        "        left = index * 2\n",
        "        right = index * 2 + 1\n",
        "        largest = index\n",
        "        if len(self.heap) > left and self.heap[largest]:\n",
        "            largest = left\n",
        "        if len(self.heap) > right and self.heap[largest]:\n",
        "            largest = right\n",
        "        if largest != index:\n",
        "            self.__swap(index, largest)\n",
        "            self.__bubbleDown(largest)\n",
        "            \n",
        "    def __str__(self):\n",
        "        return str(self.heap)"
      ]
    },
    {
      "cell_type": "code",
      "execution_count": 9,
      "metadata": {
        "trusted": true
      },
      "outputs": [
        {
          "name": "stdout",
          "output_type": "stream",
          "text": [
            "[0, 95, 10, 21, 3]\n",
            "95\n",
            "21\n",
            "[0, 21, 10, 3]\n"
          ]
        }
      ],
      "source": [
        "#MaxHeap test code\n",
        "\n",
        "m = MaxHeap([95, 3, 21])\n",
        "m.push(10)\n",
        "print(m)\n",
        "print(m.pop())\n",
        "print(m.peek())\n",
        "print(m)"
      ]
    },
    {
      "cell_type": "code",
      "execution_count": 13,
      "metadata": {
        "trusted": true
      },
      "outputs": [],
      "source": [
        "# Node Class\n",
        "\n",
        "class Node:\n",
        "    def __init__ (self, d, n=None, p=None):\n",
        "        self.data = d\n",
        "        self.next_node = n\n",
        "        self.prev_node = p\n",
        "        \n",
        "    def __str__ (self):\n",
        "        return ('(' + str(self.data) + ')')"
      ]
    },
    {
      "cell_type": "code",
      "execution_count": 5,
      "metadata": {
        "trusted": true
      },
      "outputs": [],
      "source": [
        "# Linked List\n",
        "\n",
        "class LinkedList:\n",
        "    def __init__(self, r = None):\n",
        "        self.root = r\n",
        "        self.size = 0\n",
        "        \n",
        "    def add(self, d):\n",
        "        new_node = Node(d, self.root)\n",
        "        self.root = new_node\n",
        "        self.size += 1\n",
        "        \n",
        "    def find(self, d):\n",
        "        this_node = self.root\n",
        "        while this_node is not None:\n",
        "            if this_node.data == d:\n",
        "                return d\n",
        "            else:\n",
        "                this_node = this_node.next_node\n",
        "        return None\n",
        "    \n",
        "    def remove(self, d):\n",
        "        this_node = self.root\n",
        "        prev_node = None\n",
        "        \n",
        "        while this_node is not None:\n",
        "            if this_node.data == d:\n",
        "                if prev_node is not None: # data is in non-root\n",
        "                    prev_node.next_node = this_node.next_node\n",
        "                else: # data is in root node\n",
        "                    self.root = this_node.next_node\n",
        "                self.size -= 1\n",
        "                return True # data removed\n",
        "            else:\n",
        "                prev_node = this_node\n",
        "                this_node = this_node.next_node\n",
        "        return False # data not found\n",
        "    \n",
        "    def print_list(self):\n",
        "        this_node = self.root\n",
        "        while this_node is not None:\n",
        "            print(this_node, end='->')\n",
        "            this_node = this_node.next_node\n",
        "        print('None')"
      ]
    },
    {
      "cell_type": "code",
      "execution_count": 23,
      "metadata": {
        "trusted": true
      },
      "outputs": [
        {
          "name": "stdout",
          "output_type": "stream",
          "text": [
            "(12)->(8)->(5)->None\n",
            "size=3\n",
            "size=2\n",
            "5\n",
            "(12)\n"
          ]
        }
      ],
      "source": [
        "# Test code for Linked List\n",
        "\n",
        "myList = LinkedList()\n",
        "myList.add(5)\n",
        "myList.add(8)\n",
        "myList.add(12)\n",
        "myList.print_list()\n",
        "\n",
        "print(\"size=\" + str(myList.size))\n",
        "myList.remove(8)\n",
        "print(\"size=\" + str(myList.size))\n",
        "print(myList.find(5))\n",
        "print(myList.root)"
      ]
    },
    {
      "cell_type": "code",
      "execution_count": 18,
      "metadata": {
        "trusted": true
      },
      "outputs": [],
      "source": [
        "# Circular Linked List\n",
        "\n",
        "class CircularLinkedList:\n",
        "    def __init__ (self, r = None):\n",
        "        self.root = r\n",
        "        self.size = 0\n",
        "        \n",
        "    def add (self, d):\n",
        "        if self.size == 0:\n",
        "            self.root = Node(d)\n",
        "            self.root.next_node = self.root\n",
        "        else:\n",
        "            new_node = Node (d, self.root.next_node)\n",
        "            self.root.next_node = new_node\n",
        "        self.size += 1\n",
        "        \n",
        "    def find (self, d):\n",
        "        this_node = self.root\n",
        "        while True:\n",
        "            if this_node.data == d:\n",
        "                return d\n",
        "            elif this_node.next_node == self.root:\n",
        "                return False\n",
        "            this_node = this_node.next_node\n",
        "        \n",
        "    def remove (self, d):\n",
        "        this_node = self.root\n",
        "        prev_node = None\n",
        "        \n",
        "        while True:\n",
        "            if this_node.data == d: # found\n",
        "                if prev_node is not None:\n",
        "                    prev_node.next_node = this_node.next_node\n",
        "                else:\n",
        "                    while this_node.next_node != self.root:\n",
        "                        this_node = this_node.next_node\n",
        "                    this_node.next_node = self.root.next_node\n",
        "                    self.root = self.root.next_node\n",
        "                self.size -= 1\n",
        "                return True # data removed\n",
        "            elif this_node.next_node == self.root:\n",
        "                return False # data not found\n",
        "            prev_node = this_node\n",
        "            this_node = this_node.next_node\n",
        "        \n",
        "    def print_list (self):\n",
        "        if self.root is None:\n",
        "            return\n",
        "        this_node = self.root\n",
        "        print (this_node, end='->')\n",
        "        while this_node.next_node != self.root:\n",
        "            this_node = this_node.next_node\n",
        "\n",
        "            print()\n",
        "                "
      ]
    },
    {
      "cell_type": "code",
      "execution_count": 24,
      "metadata": {
        "trusted": true
      },
      "outputs": [
        {
          "name": "stdout",
          "output_type": "stream",
          "text": [
            "size=5\n",
            "8\n",
            "False\n",
            "(5)->(9)->(8)->(3)->(7)->(5)->(9)->(8)->(3)->\n",
            "(5)->\n",
            "\n",
            "\n",
            "\n",
            "False\n",
            "size=4\n",
            "(9)->\n",
            "\n"
          ]
        }
      ],
      "source": [
        "# Test code for Circular Linked List\n",
        "\n",
        "cll = CircularLinkedList()\n",
        "for i in [5, 7, 3, 8, 9]:\n",
        "    cll.add(i)\n",
        "    \n",
        "print(\"size=\" + str(cll.size))\n",
        "print(cll.find(8))\n",
        "print(cll.find(12))\n",
        "\n",
        "my_node = cll.root\n",
        "print(my_node, end='->')\n",
        "for i in range(8):\n",
        "    my_node = my_node.next_node\n",
        "    print(my_node, end='->')\n",
        "print()\n",
        "\n",
        "cll.print_list()\n",
        "cll.remove(8)\n",
        "print(cll.remove(15))\n",
        "print(\"size=\" + str(cll.size))\n",
        "cll.remove(5) # remove root node\n",
        "cll.print_list()"
      ]
    },
    {
      "cell_type": "code",
      "execution_count": 27,
      "metadata": {
        "trusted": true
      },
      "outputs": [],
      "source": [
        "# Doubly linked list\n",
        "\n",
        "class DoublyLinkedList:\n",
        "    def __init__ (self, r = None):\n",
        "        self.root = r\n",
        "        self.last = r\n",
        "        self.size = 0\n",
        "        \n",
        "    def add(self, d):\n",
        "        if self.size == 0:\n",
        "            self.root = Node(d)\n",
        "            self.last = self.root\n",
        "        else:\n",
        "            new_node = Node(d, self.root)\n",
        "            self.root.prev_node = new_node\n",
        "            self.root = new_node\n",
        "        self.size += 1\n",
        "        \n",
        "    def find(self, d):\n",
        "        this_node = self.root\n",
        "        while this_node is not None:\n",
        "            if this_node.data == d:\n",
        "                return d\n",
        "            elif this_node.next_node == None:\n",
        "                return False\n",
        "            else:\n",
        "                this_node = this_node.next_node\n",
        "                \n",
        "    def remove (self, d):\n",
        "        this_node = self.root\n",
        "        while this_node is not None:\n",
        "            if this_node.data == d:\n",
        "                if this_node.prev_node is not None:\n",
        "                    if this_node.next_node is not None: # de;ete a middle node\n",
        "                        this_node.prev_node.next_node = this_node.next_node\n",
        "                        this_node.next_node.prev_node = this_node.prev_node\n",
        "                    else: # delete last node\n",
        "                        this_node.prev_node.next_node = None\n",
        "                        self.last = this_node.prev_node\n",
        "                else: # delete root node\n",
        "                    self.root = this_node.next_node\n",
        "                    this_node.next_node.prev_node = self.root\n",
        "                self.size -= 1\n",
        "                return True # data removed\n",
        "            else:\n",
        "                this_node = this_node.next_node\n",
        "        return False # data not found\n",
        "    \n",
        "    def print_list(self):\n",
        "        if self.root is None:\n",
        "            return\n",
        "        this_node = self.root\n",
        "        print(this_node, end='->')\n",
        "        while this_node.next_node is not None:\n",
        "            this_node = this_node.next_node\n",
        "            print(this_node, end='->')\n",
        "        print()"
      ]
    },
    {
      "cell_type": "code",
      "execution_count": 29,
      "metadata": {
        "trusted": true
      },
      "outputs": [
        {
          "name": "stdout",
          "output_type": "stream",
          "text": [
            "size=5\n",
            "(9)->(8)->(3)->(7)->(5)->\n",
            "size=4\n",
            "False\n",
            "False\n",
            "(22)->(21)->(9)->(3)->(7)->\n",
            "(3)\n"
          ]
        }
      ],
      "source": [
        "# test code for Doubly Linked List Code\n",
        "\n",
        "dll = DoublyLinkedList()\n",
        "for i in [5, 7, 3, 8, 9]:\n",
        "    dll.add(i)\n",
        "    \n",
        "print(\"size=\" + str(dll.size))\n",
        "dll.print_list()\n",
        "dll.remove(8)\n",
        "print(\"size=\"+str(dll.size))\n",
        "\n",
        "print(dll.remove(15))\n",
        "print(dll.find(15))\n",
        "dll.add(21)\n",
        "dll.add(22)\n",
        "dll.remove(5)\n",
        "dll.print_list()\n",
        "print(dll.last.prev_node)"
      ]
    },
    {
      "cell_type": "code",
      "execution_count": null,
      "metadata": {},
      "outputs": [],
      "source": []
    }
  ],
  "metadata": {
    "kernelspec": {
      "display_name": "Python 3",
      "language": "python",
      "name": "python3"
    },
    "language_info": {
      "codemirror_mode": {
        "name": "python",
        "version": 3
      },
      "file_extension": ".py",
      "mimetype": "text/x-python",
      "name": "python",
      "nbconvert_exporter": "python",
      "pygments_lexer": "ipython3",
      "version": "3.8.10"
    },
    "vscode": {
      "interpreter": {
        "hash": "916dbcbb3f70747c44a77c7bcd40155683ae19c65e1c03b4aa3499c5328201f1"
      }
    }
  },
  "nbformat": 4,
  "nbformat_minor": 4
}
