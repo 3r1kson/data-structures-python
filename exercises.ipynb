{
  "metadata": {
    "language_info": {
      "codemirror_mode": {
        "name": "python",
        "version": 3
      },
      "file_extension": ".py",
      "mimetype": "text/x-python",
      "name": "python",
      "nbconvert_exporter": "python",
      "pygments_lexer": "ipython3",
      "version": "3.8"
    },
    "kernelspec": {
      "name": "python",
      "display_name": "Python (Pyodide)",
      "language": "python"
    }
  },
  "nbformat_minor": 4,
  "nbformat": 4,
  "cells": [
    {
      "cell_type": "code",
      "source": "# string\nx = 'frog'\nprint (x[3])\n\n# list\nx = ['pig', 'cow', 'horse']\nprint(x[1])\n\n# tuple\nx = ('Kevin', 'Niklas', 'Jenny', 'Craig')\nprint (x[0])",
      "metadata": {
        "trusted": true
      },
      "execution_count": 23,
      "outputs": [
        {
          "name": "stdout",
          "text": "g\ncow\nKevin\n",
          "output_type": "stream"
        }
      ]
    },
    {
      "cell_type": "code",
      "source": "# slicing\nx = 'computer'\nprint(x[1:4])\nprint(x[1:6:2])\nprint(x[3:])\nprint(x[:5])\nprint(x[-1])\nprint(x[-3:])\nprint(x[:-2])",
      "metadata": {
        "trusted": true
      },
      "execution_count": 4,
      "outputs": [
        {
          "name": "stdout",
          "text": "omp\nopt\nputer\ncompu\nr\nter\ncomput\n",
          "output_type": "stream"
        }
      ]
    },
    {
      "cell_type": "code",
      "source": "# adding and concatenating\n\n#string\nx = 'horse' + 'shoe'\nprint(x)\n\n#list\ny = ['pig', 'cow'] + ['horse']\nprint(x)\n\n#tuple\nz = ('Kevin', 'Niklas', 'Jenny') + ('Craig',)\nprint(z)",
      "metadata": {
        "trusted": true
      },
      "execution_count": 6,
      "outputs": [
        {
          "name": "stdout",
          "text": "horseshoe\nhorseshoe\n('Kevin', 'Niklas', 'Jenny', 'Craig')\n",
          "output_type": "stream"
        }
      ]
    },
    {
      "cell_type": "code",
      "source": "#multiplying\n\n#string\nx = 'bug' * 3\nprint(x)\n\n#list\ny = [8, 5] * 3\nprint (y)\n\n#tuple\nz = (2, 4) * 3\nprint(z)",
      "metadata": {
        "trusted": true
      },
      "execution_count": 8,
      "outputs": [
        {
          "name": "stdout",
          "text": "bugbugbug\n[8, 5, 8, 5, 8, 5]\n(2, 4, 2, 4, 2, 4)\n",
          "output_type": "stream"
        }
      ]
    },
    {
      "cell_type": "code",
      "source": "# check membershio\n\n#string\nx = 'bug'\nprint('u' in x)\n\n#list\nz = ['pig', 'cow', 'horse']\nprint('cow' not in z)\n\n#tuple\nz = ('Kevin', 'Mark', 'Douglas')\nprint('Tony' in z)",
      "metadata": {
        "trusted": true
      },
      "execution_count": 10,
      "outputs": [
        {
          "name": "stdout",
          "text": "True\nFalse\nFalse\n",
          "output_type": "stream"
        }
      ]
    },
    {
      "cell_type": "code",
      "source": "# iteration\n\n#item\nx = [7, 8, 9]\nfor item in x:\n    print(item)\n    \n# index & item\ny = [7, 8, 3]\nfor index, item in enumerate(y):\n    print(index, item)",
      "metadata": {
        "trusted": true
      },
      "execution_count": 11,
      "outputs": [
        {
          "name": "stdout",
          "text": "7\n8\n9\n0 7\n1 8\n2 3\n",
          "output_type": "stream"
        }
      ]
    },
    {
      "cell_type": "code",
      "source": "# number of items\n\n#string\nx = 'bug'\nprint(len(x))\n\n#list\ny = ['pig', 'cow', 'horse']\nprint(len(y))\n\n#tuple\nz = ('Yosef', 'Mark', 'House', 'Cutty')\nprint(len(z))",
      "metadata": {
        "trusted": true
      },
      "execution_count": 12,
      "outputs": [
        {
          "name": "stdout",
          "text": "3\n3\n4\n",
          "output_type": "stream"
        }
      ]
    },
    {
      "cell_type": "code",
      "source": "# maximum\n\n#string\nx = 'bug'\nprint(max(x))\n\n#list\ny = ['pig', 'cow', 'horse']\nprint(max(y))\n\n#tuple\nz = ('Yosef', 'Mark', 'House', 'Cutty')\nprint(max(z))",
      "metadata": {
        "trusted": true
      },
      "execution_count": 13,
      "outputs": [
        {
          "name": "stdout",
          "text": "u\npig\nYosef\n",
          "output_type": "stream"
        }
      ]
    },
    {
      "cell_type": "code",
      "source": "# sum\n#string #returns error\n# x = 'bug'\n# print(sum(x))\n\n#list\ny = [2, 5, 8, 12]\nprint(sum(y))\nprint(sum(y[-2:]))\n\n#tuple\nz = (2, 5, 8, 12)\nprint(sum(z))",
      "metadata": {
        "trusted": true
      },
      "execution_count": 17,
      "outputs": [
        {
          "name": "stdout",
          "text": "27\n20\n27\n",
          "output_type": "stream"
        }
      ]
    },
    {
      "cell_type": "code",
      "source": "# sorting\n\n#string\nx = 'bug'\nprint(sorted(x))\n\n#list\ny = ['pig', 'cow', 'horse']\nprint(sorted(y))\n\n#tuple\nz = ('Yosef', 'Mark', 'House', 'Cutty')\nprint(sorted(z))",
      "metadata": {
        "trusted": true
      },
      "execution_count": 18,
      "outputs": [
        {
          "name": "stdout",
          "text": "['b', 'g', 'u']\n['cow', 'horse', 'pig']\n['Cutty', 'House', 'Mark', 'Yosef']\n",
          "output_type": "stream"
        }
      ]
    },
    {
      "cell_type": "code",
      "source": "# sorting by second letter\n\n#tuple\nz = ('Yosef', 'Mark', 'House', 'Cutty')\nprint(sorted(z, key=lambda k: k[1]))",
      "metadata": {
        "trusted": true
      },
      "execution_count": 19,
      "outputs": [
        {
          "name": "stdout",
          "text": "['Mark', 'Yosef', 'House', 'Cutty']\n",
          "output_type": "stream"
        }
      ]
    },
    {
      "cell_type": "code",
      "source": "# count(item)\n\n#string\nx = 'hippo'\nprint(x.count('p'))\n\n#list\ny = ['pig', 'cow', 'horse']\nprint(y.count('cow'))\n\n#tuple\nz = ('Yosef', 'Mark', 'House', 'Cutty')\nprint(z.count('House'))",
      "metadata": {
        "trusted": true
      },
      "execution_count": 20,
      "outputs": [
        {
          "name": "stdout",
          "text": "2\n1\n1\n",
          "output_type": "stream"
        }
      ]
    },
    {
      "cell_type": "code",
      "source": "# index(item)\n\n#string\nx = 'hippo'\nprint(x.index('p'))\n\n#list\ny = ['pig', 'cow', 'horse']\nprint(y.index('cow'))\n\n#tuple\nz = ('Yosef', 'Mark', 'House', 'Cutty')\nprint(z.index('House'))",
      "metadata": {
        "trusted": true
      },
      "execution_count": 21,
      "outputs": [
        {
          "name": "stdout",
          "text": "2\n1\n2\n",
          "output_type": "stream"
        }
      ]
    },
    {
      "cell_type": "code",
      "source": "# unpacking\n\nx = ['pig', 'cow', 'horse']\na, b, c = y\nprint(a, b, c)",
      "metadata": {
        "trusted": true
      },
      "execution_count": 22,
      "outputs": [
        {
          "name": "stdout",
          "text": "pig cow horse\n",
          "output_type": "stream"
        }
      ]
    },
    {
      "cell_type": "code",
      "source": "# LISTS\n\n# constructors - creating new list\n\nx = list()\ny = ['a', 25, 'dog', 8.43]\ntuple1 = (10, 20)\nz = list(tuple1)\n\n#list comprehension\n\na = [m for m in range(8)]\nprint(a)\nb = [i**2 for i in range(10) if i>4]\nprint(b)\n",
      "metadata": {
        "trusted": true
      },
      "execution_count": 24,
      "outputs": [
        {
          "name": "stdout",
          "text": "[0, 1, 2, 3, 4, 5, 6, 7]\n[25, 36, 49, 64, 81]\n",
          "output_type": "stream"
        }
      ]
    },
    {
      "cell_type": "code",
      "source": "# delete a list or item\n\nx = [4, 5, 7, 9]\ndel(x[2])\n\nprint(sorted(x))\ndel(x) #deletes entire list\n",
      "metadata": {
        "trusted": true
      },
      "execution_count": 29,
      "outputs": [
        {
          "name": "stdout",
          "text": "[4, 5, 9]\n",
          "output_type": "stream"
        }
      ]
    },
    {
      "cell_type": "code",
      "source": "# append a list or item\n\nx = [4, 5, 7, 9]\nx.append(7)\n\nprint(sorted(x))",
      "metadata": {
        "trusted": true
      },
      "execution_count": 30,
      "outputs": [
        {
          "name": "stdout",
          "text": "[4, 5, 7, 7, 9]\n",
          "output_type": "stream"
        }
      ]
    },
    {
      "cell_type": "code",
      "source": "# extend - append a sequence to a list\n\nx = [5, 7, 9, 6]\ny = [13, 17]\nx.extend(y)\nprint(sorted(x))",
      "metadata": {
        "trusted": true
      },
      "execution_count": 31,
      "outputs": [
        {
          "name": "stdout",
          "text": "[5, 6, 7, 9, 13, 17]\n",
          "output_type": "stream"
        }
      ]
    },
    {
      "cell_type": "code",
      "source": "# insert - insert an item to a list\n\nx = [5, 7, 9, 6]\nx.insert(13, 17)\nprint(sorted(x))\nx.insert(1, ['a', 'm'])\nprint(x)",
      "metadata": {
        "trusted": true
      },
      "execution_count": 34,
      "outputs": [
        {
          "name": "stdout",
          "text": "[5, 6, 7, 9, 17]\n[5, ['a', 'm'], 7, 9, 6, 17]\n",
          "output_type": "stream"
        }
      ]
    },
    {
      "cell_type": "code",
      "source": "# pop - pops the last item of a list\n\nx = [5, 7, 9, 6]\nx.pop()\nprint(x)\nprint(x.pop())",
      "metadata": {
        "trusted": true
      },
      "execution_count": 35,
      "outputs": [
        {
          "name": "stdout",
          "text": "[5, 7, 9]\n9\n",
          "output_type": "stream"
        }
      ]
    },
    {
      "cell_type": "code",
      "source": "# remove - remove first instance of an item\n\nx = [3, 5, 7, 9, 6]\nx.remove(3)\nprint(x)",
      "metadata": {
        "trusted": true
      },
      "execution_count": 37,
      "outputs": [
        {
          "name": "stdout",
          "text": "[5, 7, 9, 6]\n",
          "output_type": "stream"
        }
      ]
    },
    {
      "cell_type": "code",
      "source": "# reverse - reverse the order of the list\n\nx = [3, 5, 7, 9, 6]\nx.reverse()\nprint(x)",
      "metadata": {
        "trusted": true
      },
      "execution_count": 38,
      "outputs": [
        {
          "name": "stdout",
          "text": "[6, 9, 7, 5, 3]\n",
          "output_type": "stream"
        }
      ]
    },
    {
      "cell_type": "code",
      "source": "# sort - sort the list in place\n# Note: sorted(x) returns a new sorted list without changing the original\n# x.sort() puts the items of x in sorted order (sorts in place)\n\nx = [3, 5, 7, 9, 6]\nx.sort()\nprint(x)",
      "metadata": {
        "trusted": true
      },
      "execution_count": 39,
      "outputs": [
        {
          "name": "stdout",
          "text": "[3, 5, 6, 7, 9]\n",
          "output_type": "stream"
        }
      ]
    },
    {
      "cell_type": "code",
      "source": "# reverse sort - sort the list in reverse\n\nx = [3, 5, 7, 9, 6]\nx.sort(reverse=True)\nprint(x)",
      "metadata": {
        "trusted": true
      },
      "execution_count": 40,
      "outputs": [
        {
          "name": "stdout",
          "text": "[9, 7, 6, 5, 3]\n",
          "output_type": "stream"
        }
      ]
    },
    {
      "cell_type": "code",
      "source": "# TUPLES\n\n# constructors - creating new tuples\n\nx = ()\nx = (1, 2, 3)\nx = 1, 2, 3\nx = 2 , # comma tells python it is a tuple\nprint(x, type(x))\n\nlist1 = [2, 4, 6]\nx = tuple(list1)\nprint(x, type(x))\n\n",
      "metadata": {
        "trusted": true
      },
      "execution_count": 41,
      "outputs": [
        {
          "name": "stdout",
          "text": "(2,) <class 'tuple'>\n(2, 4, 6) <class 'tuple'>\n",
          "output_type": "stream"
        }
      ]
    },
    {
      "cell_type": "code",
      "source": "# tuples are immutable, but member objects may be mutable\n\nx = (1, 2, 3)\n# del(x[1]) # fails\n# x[1] = 8  # fails\nprint(x)\n\ny = ([1, 2], 3)\ndel(y[0][1])\nprint(y)\n\ny += (4, )\nprint(y)",
      "metadata": {
        "trusted": true
      },
      "execution_count": 43,
      "outputs": [
        {
          "name": "stdout",
          "text": "(1, 2, 3)\n([1], 3)\n([1], 3, 4)\n",
          "output_type": "stream"
        }
      ]
    },
    {
      "cell_type": "code",
      "source": "# SETS\n\n# constructors - creating new sets\n\nx = {3, 5, 3, 5}\nprint(x)\n\ny = set()\nprint(y)\n\nlist1 = [2, 3, 4]\nz = set(list1)\nprint(z)",
      "metadata": {
        "trusted": true
      },
      "execution_count": 44,
      "outputs": [
        {
          "name": "stdout",
          "text": "{3, 5}\nset()\n{2, 3, 4}\n",
          "output_type": "stream"
        }
      ]
    },
    {
      "cell_type": "code",
      "source": "# set operators\n\nx = {3, 8 , 5}\nprint(x)\nx.add(7)\nprint(x)\n\nx.remove(3)\nprint(x)\n\n# get length of set x\nprint(len(x))\n\n# check membership in x\nprint(5 in x)\n\n# pop random item from set x\nprint(x.pop(), x)\n\n# delete all items from set x\nx.clear()\nprint(x)",
      "metadata": {
        "trusted": true
      },
      "execution_count": 47,
      "outputs": [
        {
          "name": "stdout",
          "text": "{8, 3, 5}\n{8, 3, 5, 7}\n{8, 5, 7}\n3\nTrue\n8 {5, 7}\nset()\n",
          "output_type": "stream"
        }
      ]
    },
    {
      "cell_type": "code",
      "source": "# Mathematical set operations\n# intersection (AND): set1 & set2\n# union (OR): set1 | set2\n# symmetric difference (XOR): set1 ^ set2\n# subset (AND): set1 <= set2\n# superset (AND): set1 => set2\n\ns1 = {1, 2, 3}\ns2 = {3, 4, 5}\nprint(s1 & s2)\nprint(s1 | s2)\nprint(s1 ^ s2)\nprint(s1 <= s2)\nprint(s1 >= s2)",
      "metadata": {
        "trusted": true
      },
      "execution_count": 48,
      "outputs": [
        {
          "name": "stdout",
          "text": "{3}\n{1, 2, 3, 4, 5}\n{1, 2, 4, 5}\nFalse\nFalse\n",
          "output_type": "stream"
        }
      ]
    },
    {
      "cell_type": "code",
      "source": "# DICTIONARIES (dict)\n\nx = {'pork':25.3, 'beef':33.8, 'chicken':22.7}\nprint(x)\nx = dict([('pork',25.3), ('beef',33.8), ('chicken',22.7)])\nprint(x)\nx = dict(pork = 25.3, beef = 33.8, chicken = 22.7)\nprint(x)",
      "metadata": {
        "trusted": true
      },
      "execution_count": 52,
      "outputs": [
        {
          "name": "stdout",
          "text": "{'pork': 25.3, 'beef': 33.8, 'chicken': 22.7}\n{'pork': 25.3, 'beef': 33.8, 'chicken': 22.7}\n{'pork': 25.3, 'beef': 33.8, 'chicken': 22.7}\n",
          "output_type": "stream"
        }
      ]
    },
    {
      "cell_type": "code",
      "source": "# dict operators\n\nx['shrimp'] = 38.2 # add or update\nprint(x)\n\n# delete an item\ndel(x['shrimp'])\nprint(x)\n\n# get length of dict x\nprint(len(x))\n\n# delete all items from dict x\nx.clear()\nprint(x)\n\n# delete dict x\ndel(x)",
      "metadata": {
        "trusted": true
      },
      "execution_count": 53,
      "outputs": [
        {
          "name": "stdout",
          "text": "{'pork': 25.3, 'beef': 33.8, 'chicken': 22.7, 'shrimp': 38.2}\n{'pork': 25.3, 'beef': 33.8, 'chicken': 22.7}\n3\n{}\n",
          "output_type": "stream"
        }
      ]
    },
    {
      "cell_type": "code",
      "source": "# accessing keys and values for a dict\n\nx = {'pork':25.3, 'beef':33.8, 'chicken':22.7}\nprint(x.keys())\nprint(x.values())\nprint(x.items())\n\n# check membership in y_keys\nprint('beef' in x)\n\n# check membership in y_values\nprint('clams' in x.values())",
      "metadata": {
        "trusted": true
      },
      "execution_count": 57,
      "outputs": [
        {
          "name": "stdout",
          "text": "dict_keys(['pork', 'beef', 'chicken'])\ndict_values([25.3, 33.8, 22.7])\ndict_items([('pork', 25.3), ('beef', 33.8), ('chicken', 22.7)])\nTrue\nFalse\n",
          "output_type": "stream"
        }
      ]
    },
    {
      "cell_type": "code",
      "source": "# iterating a dict\n\nfor key in x:\n    print(key, x[key])\n    \nfor k, v in x.items():\n    print(k, v)",
      "metadata": {
        "trusted": true
      },
      "execution_count": 59,
      "outputs": [
        {
          "name": "stdout",
          "text": "pork 25.3\nbeef 33.8\nchicken 22.7\npork 25.3\nbeef 33.8\nchicken 22.7\n",
          "output_type": "stream"
        }
      ]
    },
    {
      "cell_type": "code",
      "source": "# PYTHON LIST COMPREHENSIONS\n# basic format: new_list = [transoform_sequence[filter]]\n\nimport random\n\nunder_10 = [x for x in range(10)]\nprint('under_10: ' + str(under_10))",
      "metadata": {
        "trusted": true
      },
      "execution_count": 60,
      "outputs": [
        {
          "name": "stdout",
          "text": "under_10: [0, 1, 2, 3, 4, 5, 6, 7, 8, 9]\n",
          "output_type": "stream"
        }
      ]
    },
    {
      "cell_type": "code",
      "source": "# get squared values\n\nsquares = [x**2 for x in under_10]\nprint('squares: ' + str(squares))",
      "metadata": {
        "trusted": true
      },
      "execution_count": 62,
      "outputs": [
        {
          "name": "stdout",
          "text": "squares: [0, 1, 4, 9, 16, 25, 36, 49, 64, 81]\n",
          "output_type": "stream"
        }
      ]
    },
    {
      "cell_type": "code",
      "source": "# get odd numbers using mod\n\nodds = [x for x in range(10) if x%2 == 1]\nprint('odds: ' + str(odds))",
      "metadata": {
        "trusted": true
      },
      "execution_count": 63,
      "outputs": [
        {
          "name": "stdout",
          "text": "odds: [1, 3, 5, 7, 9]\n",
          "output_type": "stream"
        }
      ]
    },
    {
      "cell_type": "code",
      "source": "# get multiples of 10\n\nten_x = [x*10 for x in range(10)]\nprint('ten_x: ' + str(ten_x))",
      "metadata": {
        "trusted": true
      },
      "execution_count": 64,
      "outputs": [
        {
          "name": "stdout",
          "text": "ten_x: [0, 10, 20, 30, 40, 50, 60, 70, 80, 90]\n",
          "output_type": "stream"
        }
      ]
    },
    {
      "cell_type": "code",
      "source": "# get all numbers from a string\n\ns = 'I love 2 go t0 the store 7 times a w3ek'\nnums = [x for x in s if x.isnumeric()]\nprint('nums: ' + ''.join(nums))",
      "metadata": {
        "trusted": true
      },
      "execution_count": 66,
      "outputs": [
        {
          "name": "stdout",
          "text": "nums: 2073\n",
          "output_type": "stream"
        }
      ]
    },
    {
      "cell_type": "code",
      "source": "# get index of a list item\n\nnames = ['Cosmo', 'Pedro', 'Anu', 'Ray']\nidx = [k for k, v in enumerate(names) if v == 'Anu']\nprint('index = ' + str(idx[0]))",
      "metadata": {
        "trusted": true
      },
      "execution_count": 67,
      "outputs": [
        {
          "name": "stdout",
          "text": "index = 2\n",
          "output_type": "stream"
        }
      ]
    },
    {
      "cell_type": "code",
      "source": "# delete an item from a list\n\nletters = [x for x in 'ABCDEF']\nrandom.shuffle(letters)\nletrs = [a for a in letters if a != 'C']\nprint(letters, letrs)",
      "metadata": {
        "trusted": true
      },
      "execution_count": 68,
      "outputs": [
        {
          "name": "stdout",
          "text": "['F', 'C', 'B', 'D', 'E', 'A'] ['F', 'B', 'D', 'E', 'A']\n",
          "output_type": "stream"
        }
      ]
    },
    {
      "cell_type": "code",
      "source": "# if-else condition in a comprehension\n\nnums = [5, 3, 10, 18, 6, 7]\nnew_list = [x if x%2 == 0 else 10*x for x in nums]\nprint('new list: ' + str(new_list))",
      "metadata": {
        "trusted": true
      },
      "execution_count": 69,
      "outputs": [
        {
          "name": "stdout",
          "text": "new list: [50, 30, 10, 18, 6, 70]\n",
          "output_type": "stream"
        }
      ]
    },
    {
      "cell_type": "code",
      "source": "# nested loop iteration for 2D list\n\na = [[1, 2],[3, 4]]\nnew_list = [x for b in a for x in b]\nprint(new_list)",
      "metadata": {
        "trusted": true
      },
      "execution_count": 70,
      "outputs": [
        {
          "name": "stdout",
          "text": "[1, 2, 3, 4]\n",
          "output_type": "stream"
        }
      ]
    },
    {
      "cell_type": "code",
      "source": "# exercise print a list [5, 10, 15, 20]\n\nmy_list = [x*5 for x in range(5) if x > 0]\n\nprint(my_list)",
      "metadata": {
        "trusted": true
      },
      "execution_count": 81,
      "outputs": [
        {
          "name": "stdout",
          "text": "[5, 10, 15, 20]\n",
          "output_type": "stream"
        }
      ]
    },
    {
      "cell_type": "code",
      "source": "names = [['Mary', 'Smith'], ['Gordon', 'Brown'], ['Jenny', 'Jung']]\nfirst = 'Tony'\nlast = 'Stark'\nnames[0][1] = last\nnames.append([first, last])\nprint(names)",
      "metadata": {
        "trusted": true
      },
      "execution_count": 85,
      "outputs": [
        {
          "name": "stdout",
          "text": "[['Mary', 'Stark'], ['Gordon', 'Brown'], ['Jenny', 'Jung'], ['Tony', 'Stark']]\n",
          "output_type": "stream"
        }
      ]
    },
    {
      "cell_type": "code",
      "source": "# STACKS, QUEUES & HEAPS\n\n# stack is LIFO data structure\n\nmy_stack = list()\nmy_stack.append(4)\nmy_stack.append(7)\nmy_stack.append(12)\nmy_stack.append(19)\nprint(my_stack)",
      "metadata": {
        "trusted": true
      },
      "execution_count": 88,
      "outputs": [
        {
          "name": "stdout",
          "text": "[4, 7, 12, 19]\n",
          "output_type": "stream"
        }
      ]
    },
    {
      "cell_type": "code",
      "source": "print(my_stack.pop())\nprint(my_stack.pop())\nprint(my_stack)",
      "metadata": {
        "trusted": true
      },
      "execution_count": 89,
      "outputs": [
        {
          "name": "stdout",
          "text": "19\n12\n[4, 7]\n",
          "output_type": "stream"
        }
      ]
    },
    {
      "cell_type": "code",
      "source": "# Stack using list with a wrapper class\n\nclass Stack():\n    def __init__(self):\n        self.stack = list()\n    def push(self, item):\n        self.stack.append(item)\n    def pop(self):\n        if len(self.stack) > 0:\n            return self.stack.pop()\n        else:\n            return None\n    def peek(self):\n        if len(self.stack) > 0:\n            return self.stack[len(self.stack)-1]\n        else:\n            return None\n    def __str__ (self):\n        return str(self.stack)",
      "metadata": {
        "trusted": true
      },
      "execution_count": 12,
      "outputs": []
    },
    {
      "cell_type": "code",
      "source": "# test code for stack wrapper class\n\nmy_stack = Stack()\nmy_stack.push(1)\nmy_stack.push(3)\nprint(my_stack)\nprint(my_stack.pop())\nprint(my_stack.peek())\nprint(my_stack.pop())\nprint(my_stack.pop())",
      "metadata": {
        "trusted": true
      },
      "execution_count": 13,
      "outputs": [
        {
          "name": "stdout",
          "text": "[1, 3]\n3\n1\n1\nNone\n",
          "output_type": "stream"
        }
      ]
    },
    {
      "cell_type": "code",
      "source": "# Queue using Python Deque - FIFO structure\n\nfrom collections import deque\nmy_queue = deque()\nmy_queue.append(5)\nmy_queue.append(10)\nprint(my_queue)\nprint(my_queue.popleft())",
      "metadata": {
        "trusted": true
      },
      "execution_count": 95,
      "outputs": [
        {
          "name": "stdout",
          "text": "deque([5, 10])\n5\n",
          "output_type": "stream"
        }
      ]
    },
    {
      "cell_type": "code",
      "source": "from collections import deque\nclass Queue():\n    def __init__(self):\n        self.queue = deque()\n        self.size = 0\n    def enqueue(self, item):\n        return self.queue.append(item)\n    def dequeue(self):\n        if len(self.queue) > 0:\n            return self.queue.popleft()\n        else:\n            return None\n    def get_size(self):\n        return len(self.queue)\n    \nmy_queue = Queue()\nmy_queue.enqueue(5)\nmy_queue.enqueue(10)\nprint(my_queue.dequeue())\nprint(my_queue.get_size())",
      "metadata": {
        "collapsed": true,
        "jupyter": {
          "outputs_hidden": true
        },
        "trusted": true
      },
      "execution_count": 114,
      "outputs": [
        {
          "name": "stdout",
          "text": "5\n1\n",
          "output_type": "stream"
        }
      ]
    },
    {
      "cell_type": "code",
      "source": "# HEAPS in Python\n# Python MaxHeap\n\nclass MaxHeap:\n    def __init__(self, items=[]):\n        super().__init__()\n        self.heap = [0]\n        for item in items:\n            self.heap.append(item)\n            self.__floatUp(len(self.heap) -1 )\n    \n    def push(self, data):\n        self.heap.append(data)\n        self.__floatUp(len(self.heap) -1 )\n        \n    def peek(self):\n        if self.heap[1]:\n            return self.heap[1]\n        else:\n            return False\n        \n    def pop(self):\n        if len(self.heap) > 2:\n            self.__swap(1, len(self.heap) - 1)\n            max = self.heap.pop()\n            self.__bubbleDown(1)\n        elif len(self.heap) == 2:\n            max = self.heap.pop()\n        else:\n            max = False\n        return max\n    \n    def __swap(self, i, j):\n        self.heap[i], self.heap[j] = self.heap[j], self.heap[i]\n        \n    def __floatUp(self, index):\n        parent = index//2\n        if index <= 1:\n            return\n        elif self.heap[index] > self.heap[parent]:\n            self.__swap(index, parent)\n            self.__floatUp(parent)\n            \n    def __bubbleDown(self, index):\n        left = index * 2\n        right = index * 2 + 1\n        largest = index\n        if len(self.heap) > left and self.heap[largest]:\n            largest = left\n        if len(self.heap) > right and self.heap[largest]:\n            largest = right\n        if largest != index:\n            self.__swap(index, largest)\n            self.__bubbleDown(largest)\n            \n    def __str__(self):\n        return str(self.heap)",
      "metadata": {
        "trusted": true
      },
      "execution_count": 6,
      "outputs": []
    },
    {
      "cell_type": "code",
      "source": "#MaxHeap test code\n\nm = MaxHeap([95, 3, 21])\nm.push(10)\nprint(m)\nprint(m.pop())\nprint(m.peek())\nprint(m)",
      "metadata": {
        "trusted": true
      },
      "execution_count": 9,
      "outputs": [
        {
          "name": "stdout",
          "text": "[0, 95, 10, 21, 3]\n95\n21\n[0, 21, 10, 3]\n",
          "output_type": "stream"
        }
      ]
    },
    {
      "cell_type": "code",
      "source": "# Node Class\n\nclass Node:\n    def __init__ (self, d, n=None, p=None):\n        self.data = d\n        self.next_node = n\n        self.prev_node = p\n        \n    def __str__ (self):\n        return ('(' + str(self.data) + ')')",
      "metadata": {
        "trusted": true
      },
      "execution_count": 13,
      "outputs": []
    },
    {
      "cell_type": "code",
      "source": "# Linked List\n\nclass LinkedList:\n    def __init__(self, r = None):\n        self.root = r\n        self.size = 0\n        \n    def add(self, d):\n        new_node = Node(d, self.root)\n        self.root = new_node\n        self.size += 1\n        \n    def find(self, d):\n        this_node = self.root\n        while this_node is not None:\n            if this_node.data == d:\n                return d\n            else:\n                this_node = this_node.next_node\n        return None\n    \n    def remove(self, d):\n        this_node = self.root\n        prev_node = None\n        \n        while this_node is not None:\n            if this_node.data == d:\n                if prev_node is not None: # data is in non-root\n                    prev_node.next_node = this_node.next_node\n                else: # data is in root node\n                    self.root = this_node.next_node\n                self.size -= 1\n                return True # data removed\n            else:\n                prev_node = this_node\n                this_node = this_node.next_node\n        return False # data not found\n    \n    def print_list(self):\n        this_node = self.root\n        while this_node is not None:\n            print(this_node, end='->')\n            this_node = this_node.next_node\n        print('None')",
      "metadata": {
        "trusted": true
      },
      "execution_count": 5,
      "outputs": []
    },
    {
      "cell_type": "code",
      "source": "# Test code for Linked List\n\nmyList = LinkedList()\nmyList.add(5)\nmyList.add(8)\nmyList.add(12)\nmyList.print_list()\n\nprint(\"size=\" + str(myList.size))\nmyList.remove(8)\nprint(\"size=\" + str(myList.size))\nprint(myList.find(5))\nprint(myList.root)",
      "metadata": {
        "trusted": true
      },
      "execution_count": 23,
      "outputs": [
        {
          "name": "stdout",
          "text": "(12)->(8)->(5)->None\nsize=3\nsize=2\n5\n(12)\n",
          "output_type": "stream"
        }
      ]
    },
    {
      "cell_type": "code",
      "source": "# Circular Linked List\n\nclass CircularLinkedList:\n    def __init__ (self, r = None):\n        self.root = r\n        self.size = 0\n        \n    def add (self, d):\n        if self.size == 0:\n            self.root = Node(d)\n            self.root.next_node = self.root\n        else:\n            new_node = Node (d, self.root.next_node)\n            self.root.next_node = new_node\n        self.size += 1\n        \n    def find (self, d):\n        this_node = self.root\n        while True:\n            if this_node.data == d:\n                return d\n            elif this_node.next_node == self.root:\n                return False\n            this_node = this_node.next_node\n        \n    def remove (self, d):\n        this_node = self.root\n        prev_node = None\n        \n        while True:\n            if this_node.data == d: # found\n                if prev_node is not None:\n                    prev_node.next_node = this_node.next_node\n                else:\n                    while this_node.next_node != self.root:\n                        this_node = this_node.next_node\n                    this_node.next_node = self.root.next_node\n                    self.root = self.root.next_node\n                self.size -= 1\n                return True # data removed\n            elif this_node.next_node == self.root:\n                return False # data not found\n            prev_node = this_node\n            this_node = this_node.next_node\n        \n    def print_list (self):\n        if self.root is None:\n            return\n        this_node = self.root\n        print (this_node, end='->')\n        while this_node.next_node != self.root:\n            this_node = this_node.next_node\n\n            print()\n                ",
      "metadata": {
        "trusted": true
      },
      "execution_count": 18,
      "outputs": []
    },
    {
      "cell_type": "code",
      "source": "# Test code for Circular Linked List\n\ncll = CircularLinkedList()\nfor i in [5, 7, 3, 8, 9]:\n    cll.add(i)\n    \nprint(\"size=\" + str(cll.size))\nprint(cll.find(8))\nprint(cll.find(12))\n\nmy_node = cll.root\nprint(my_node, end='->')\nfor i in range(8):\n    my_node = my_node.next_node\n    print(my_node, end='->')\nprint()\n\ncll.print_list()\ncll.remove(8)\nprint(cll.remove(15))\nprint(\"size=\" + str(cll.size))\ncll.remove(5) # remove root node\ncll.print_list()",
      "metadata": {
        "trusted": true
      },
      "execution_count": 24,
      "outputs": [
        {
          "name": "stdout",
          "text": "size=5\n8\nFalse\n(5)->(9)->(8)->(3)->(7)->(5)->(9)->(8)->(3)->\n(5)->\n\n\n\nFalse\nsize=4\n(9)->\n\n",
          "output_type": "stream"
        }
      ]
    },
    {
      "cell_type": "code",
      "source": "# Doubly linked list\n\nclass DoublyLinkedList:\n    def __init__ (self, r = None):\n        self.root = r\n        self.last = r\n        self.size = 0\n        \n    def add(self, d):\n        if self.size == 0:\n            self.root = Node(d)\n            self.last = self.root\n        else:\n            new_node = Node(d, self.root)\n            self.root.prev_node = new_node\n            self.root = new_node\n        self.size += 1\n        \n    def find(self, d):\n        this_node = self.root\n        while this_node is not None:\n            if this_node.data == d:\n                return d\n            elif this_node.next_node == None:\n                return False\n            else:\n                this_node = this_node.next_node\n                \n    def remove (self, d):\n        this_node = self.root\n        while this_node is not None:\n            if this_node.data == d:\n                if this_node.prev_node is not None:\n                    if this_node.next_node is not None: # de;ete a middle node\n                        this_node.prev_node.next_node = this_node.next_node\n                        this_node.next_node.prev_node = this_node.prev_node\n                    else: # delete last node\n                        this_node.prev_node.next_node = None\n                        self.last = this_node.prev_node\n                else: # delete root node\n                    self.root = this_node.next_node\n                    this_node.next_node.prev_node = self.root\n                self.size -= 1\n                return True # data removed\n            else:\n                this_node = this_node.next_node\n        return False # data not found\n    \n    def print_list(self):\n        if self.root is None:\n            return\n        this_node = self.root\n        print(this_node, end='->')\n        while this_node.next_node is not None:\n            this_node = this_node.next_node\n            print(this_node, end='->')\n        print()",
      "metadata": {
        "trusted": true
      },
      "execution_count": 27,
      "outputs": []
    },
    {
      "cell_type": "code",
      "source": "# test code for Doubly Linked List Code\n\ndll = DoublyLinkedList()\nfor i in [5, 7, 3, 8, 9]:\n    dll.add(i)\n    \nprint(\"size=\" + str(dll.size))\ndll.print_list()\ndll.remove(8)\nprint(\"size=\"+str(dll.size))\n\nprint(dll.remove(15))\nprint(dll.find(15))\ndll.add(21)\ndll.add(22)\ndll.remove(5)\ndll.print_list()\nprint(dll.last.prev_node)",
      "metadata": {
        "trusted": true
      },
      "execution_count": 29,
      "outputs": [
        {
          "name": "stdout",
          "text": "size=5\n(9)->(8)->(3)->(7)->(5)->\nsize=4\nFalse\nFalse\n(22)->(21)->(9)->(3)->(7)->\n(3)\n",
          "output_type": "stream"
        }
      ]
    },
    {
      "cell_type": "code",
      "source": "",
      "metadata": {},
      "execution_count": null,
      "outputs": []
    }
  ]
}